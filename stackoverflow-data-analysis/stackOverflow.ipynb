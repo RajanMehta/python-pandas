{
 "cells": [
  {
   "cell_type": "code",
   "execution_count": 1,
   "metadata": {
    "collapsed": true
   },
   "outputs": [],
   "source": [
    "import pandas as pd\n",
    "import numpy as np\n",
    "import glob"
   ]
  },
  {
   "cell_type": "code",
   "execution_count": 2,
   "metadata": {
    "collapsed": true
   },
   "outputs": [],
   "source": [
    "path ='C:\\Users\\Rajan\\Desktop\\Stack Overflow\\data'\n",
    "allFiles = glob.glob(path + \"/*.csv\")"
   ]
  },
  {
   "cell_type": "code",
   "execution_count": 3,
   "metadata": {},
   "outputs": [
    {
     "data": {
      "text/plain": [
       "['C:\\\\Users\\\\Rajan\\\\Desktop\\\\Stack Overflow\\\\data\\\\Final 2010 1.csv',\n",
       " 'C:\\\\Users\\\\Rajan\\\\Desktop\\\\Stack Overflow\\\\data\\\\Final 2010 2.csv',\n",
       " 'C:\\\\Users\\\\Rajan\\\\Desktop\\\\Stack Overflow\\\\data\\\\Final 2010 3.csv',\n",
       " 'C:\\\\Users\\\\Rajan\\\\Desktop\\\\Stack Overflow\\\\data\\\\Final 2010 4.csv',\n",
       " 'C:\\\\Users\\\\Rajan\\\\Desktop\\\\Stack Overflow\\\\data\\\\Final 2011 1.csv',\n",
       " 'C:\\\\Users\\\\Rajan\\\\Desktop\\\\Stack Overflow\\\\data\\\\Final 2011 2.csv',\n",
       " 'C:\\\\Users\\\\Rajan\\\\Desktop\\\\Stack Overflow\\\\data\\\\Final 2011 3.csv',\n",
       " 'C:\\\\Users\\\\Rajan\\\\Desktop\\\\Stack Overflow\\\\data\\\\Final 2011 4.csv',\n",
       " 'C:\\\\Users\\\\Rajan\\\\Desktop\\\\Stack Overflow\\\\data\\\\Final 2012 1.csv',\n",
       " 'C:\\\\Users\\\\Rajan\\\\Desktop\\\\Stack Overflow\\\\data\\\\Final 2012 2.csv',\n",
       " 'C:\\\\Users\\\\Rajan\\\\Desktop\\\\Stack Overflow\\\\data\\\\Final 2012 3.csv',\n",
       " 'C:\\\\Users\\\\Rajan\\\\Desktop\\\\Stack Overflow\\\\data\\\\Final 2012 4.csv']"
      ]
     },
     "execution_count": 3,
     "metadata": {},
     "output_type": "execute_result"
    }
   ],
   "source": [
    "allFiles"
   ]
  },
  {
   "cell_type": "code",
   "execution_count": 4,
   "metadata": {
    "collapsed": true
   },
   "outputs": [],
   "source": [
    "frame = pd.DataFrame()\n",
    "list_ = []\n",
    "for file_ in allFiles:\n",
    "    df = pd.read_csv(file_, header=0)         #create separate dataframe for each file\n",
    "    list_.append(df)\n",
    "df = pd.concat(list_)                         #concat all dataframes into single dataframe"
   ]
  },
  {
   "cell_type": "code",
   "execution_count": 5,
   "metadata": {},
   "outputs": [
    {
     "data": {
      "text/plain": [
       "(600000, 25)"
      ]
     },
     "execution_count": 5,
     "metadata": {},
     "output_type": "execute_result"
    }
   ],
   "source": [
    "df.shape"
   ]
  },
  {
   "cell_type": "code",
   "execution_count": 6,
   "metadata": {},
   "outputs": [
    {
     "data": {
      "text/plain": [
       "UserId                   0\n",
       "UCreationDate            0\n",
       "UAccessDate              0\n",
       "ULocation           204885\n",
       "U.Views                  0\n",
       "U.Uvotes                 0\n",
       "U.Dvotes                 0\n",
       "PostId                   0\n",
       "PostTypeId               0\n",
       "PostParentId        220471\n",
       "PostCreationDate         0\n",
       "PostDeletionDate    600000\n",
       "PostScore                0\n",
       "PViewCount          380305\n",
       "LEDDate             295879\n",
       "LEDate              294325\n",
       "LADate                   0\n",
       "PTags               380305\n",
       "AnswerCount         380305\n",
       "CommentCount             0\n",
       "FavoriteCount       455272\n",
       "PClosedDate         582376\n",
       "VoteId                   0\n",
       "VoteTypeId               0\n",
       "VCreationDate            0\n",
       "dtype: int64"
      ]
     },
     "execution_count": 6,
     "metadata": {},
     "output_type": "execute_result"
    }
   ],
   "source": [
    "df.isna().sum()"
   ]
  },
  {
   "cell_type": "code",
   "execution_count": 7,
   "metadata": {},
   "outputs": [
    {
     "data": {
      "text/html": [
       "<div>\n",
       "<style scoped>\n",
       "    .dataframe tbody tr th:only-of-type {\n",
       "        vertical-align: middle;\n",
       "    }\n",
       "\n",
       "    .dataframe tbody tr th {\n",
       "        vertical-align: top;\n",
       "    }\n",
       "\n",
       "    .dataframe thead th {\n",
       "        text-align: right;\n",
       "    }\n",
       "</style>\n",
       "<table border=\"1\" class=\"dataframe\">\n",
       "  <thead>\n",
       "    <tr style=\"text-align: right;\">\n",
       "      <th></th>\n",
       "      <th>UserId</th>\n",
       "      <th>UCreationDate</th>\n",
       "      <th>UAccessDate</th>\n",
       "      <th>ULocation</th>\n",
       "      <th>U.Views</th>\n",
       "      <th>U.Uvotes</th>\n",
       "      <th>U.Dvotes</th>\n",
       "      <th>PostId</th>\n",
       "      <th>PostTypeId</th>\n",
       "      <th>PostParentId</th>\n",
       "      <th>...</th>\n",
       "      <th>LEDate</th>\n",
       "      <th>LADate</th>\n",
       "      <th>PTags</th>\n",
       "      <th>AnswerCount</th>\n",
       "      <th>CommentCount</th>\n",
       "      <th>FavoriteCount</th>\n",
       "      <th>PClosedDate</th>\n",
       "      <th>VoteId</th>\n",
       "      <th>VoteTypeId</th>\n",
       "      <th>VCreationDate</th>\n",
       "    </tr>\n",
       "  </thead>\n",
       "  <tbody>\n",
       "    <tr>\n",
       "      <th>0</th>\n",
       "      <td>241766</td>\n",
       "      <td>2010-01-01 00:14:28</td>\n",
       "      <td>2015-07-17 21:38:59</td>\n",
       "      <td>New York</td>\n",
       "      <td>7</td>\n",
       "      <td>0</td>\n",
       "      <td>0</td>\n",
       "      <td>8648742</td>\n",
       "      <td>1</td>\n",
       "      <td>NaN</td>\n",
       "      <td>...</td>\n",
       "      <td>2011-12-27 20:12:38</td>\n",
       "      <td>2011-12-27 20:22:48</td>\n",
       "      <td>&lt;sql&gt;&lt;sql-server&gt;&lt;tsql&gt;</td>\n",
       "      <td>3.0</td>\n",
       "      <td>2</td>\n",
       "      <td>NaN</td>\n",
       "      <td>NaN</td>\n",
       "      <td>22532084</td>\n",
       "      <td>16</td>\n",
       "      <td>2011-12-27 00:00:00</td>\n",
       "    </tr>\n",
       "    <tr>\n",
       "      <th>1</th>\n",
       "      <td>241767</td>\n",
       "      <td>2010-01-01 00:16:03</td>\n",
       "      <td>2010-02-20 05:41:01</td>\n",
       "      <td>NaN</td>\n",
       "      <td>0</td>\n",
       "      <td>0</td>\n",
       "      <td>0</td>\n",
       "      <td>1987554</td>\n",
       "      <td>1</td>\n",
       "      <td>NaN</td>\n",
       "      <td>...</td>\n",
       "      <td>2010-01-01 04:44:57</td>\n",
       "      <td>2010-07-21 01:52:44</td>\n",
       "      <td>&lt;open-source&gt;</td>\n",
       "      <td>5.0</td>\n",
       "      <td>2</td>\n",
       "      <td>2.0</td>\n",
       "      <td>2015-06-09 19:39:15</td>\n",
       "      <td>29594249</td>\n",
       "      <td>2</td>\n",
       "      <td>2012-06-22 00:00:00</td>\n",
       "    </tr>\n",
       "    <tr>\n",
       "      <th>2</th>\n",
       "      <td>241767</td>\n",
       "      <td>2010-01-01 00:16:03</td>\n",
       "      <td>2010-02-20 05:41:01</td>\n",
       "      <td>NaN</td>\n",
       "      <td>0</td>\n",
       "      <td>0</td>\n",
       "      <td>0</td>\n",
       "      <td>1987554</td>\n",
       "      <td>1</td>\n",
       "      <td>NaN</td>\n",
       "      <td>...</td>\n",
       "      <td>2010-01-01 04:44:57</td>\n",
       "      <td>2010-07-21 01:52:44</td>\n",
       "      <td>&lt;open-source&gt;</td>\n",
       "      <td>5.0</td>\n",
       "      <td>2</td>\n",
       "      <td>2.0</td>\n",
       "      <td>2015-06-09 19:39:15</td>\n",
       "      <td>8753583</td>\n",
       "      <td>5</td>\n",
       "      <td>2010-07-21 00:00:00</td>\n",
       "    </tr>\n",
       "  </tbody>\n",
       "</table>\n",
       "<p>3 rows × 25 columns</p>\n",
       "</div>"
      ],
      "text/plain": [
       "   UserId        UCreationDate          UAccessDate ULocation  U.Views  \\\n",
       "0  241766  2010-01-01 00:14:28  2015-07-17 21:38:59  New York        7   \n",
       "1  241767  2010-01-01 00:16:03  2010-02-20 05:41:01       NaN        0   \n",
       "2  241767  2010-01-01 00:16:03  2010-02-20 05:41:01       NaN        0   \n",
       "\n",
       "   U.Uvotes  U.Dvotes   PostId  PostTypeId  PostParentId         ...           \\\n",
       "0         0         0  8648742           1           NaN         ...            \n",
       "1         0         0  1987554           1           NaN         ...            \n",
       "2         0         0  1987554           1           NaN         ...            \n",
       "\n",
       "                LEDate               LADate                    PTags  \\\n",
       "0  2011-12-27 20:12:38  2011-12-27 20:22:48  <sql><sql-server><tsql>   \n",
       "1  2010-01-01 04:44:57  2010-07-21 01:52:44            <open-source>   \n",
       "2  2010-01-01 04:44:57  2010-07-21 01:52:44            <open-source>   \n",
       "\n",
       "   AnswerCount  CommentCount FavoriteCount          PClosedDate    VoteId  \\\n",
       "0          3.0             2           NaN                  NaN  22532084   \n",
       "1          5.0             2           2.0  2015-06-09 19:39:15  29594249   \n",
       "2          5.0             2           2.0  2015-06-09 19:39:15   8753583   \n",
       "\n",
       "   VoteTypeId        VCreationDate  \n",
       "0          16  2011-12-27 00:00:00  \n",
       "1           2  2012-06-22 00:00:00  \n",
       "2           5  2010-07-21 00:00:00  \n",
       "\n",
       "[3 rows x 25 columns]"
      ]
     },
     "execution_count": 7,
     "metadata": {},
     "output_type": "execute_result"
    }
   ],
   "source": [
    "df.head(3)"
   ]
  },
  {
   "cell_type": "code",
   "execution_count": 121,
   "metadata": {},
   "outputs": [
    {
     "data": {
      "text/plain": [
       "Index([u'UserId', u'UCreationDate', u'UAccessDate', u'ULocation', u'U.Views',\n",
       "       u'U.Uvotes', u'U.Dvotes', u'PostId', u'PostTypeId', u'PostParentId',\n",
       "       u'PostCreationDate', u'PostDeletionDate', u'PostScore', u'PViewCount',\n",
       "       u'LEDDate', u'LEDate', u'LADate', u'PTags', u'AnswerCount',\n",
       "       u'CommentCount', u'FavoriteCount', u'PClosedDate', u'VoteId',\n",
       "       u'VoteTypeId', u'VCreationDate'],\n",
       "      dtype='object')"
      ]
     },
     "execution_count": 121,
     "metadata": {},
     "output_type": "execute_result"
    }
   ],
   "source": [
    "df.columns"
   ]
  },
  {
   "cell_type": "code",
   "execution_count": 8,
   "metadata": {
    "collapsed": true
   },
   "outputs": [],
   "source": [
    "df['PostCreationDate'] = pd.to_datetime(df['PostCreationDate'])"
   ]
  },
  {
   "cell_type": "code",
   "execution_count": 9,
   "metadata": {
    "collapsed": true
   },
   "outputs": [],
   "source": [
    "years = [2010,2011,2012]\n",
    "weeks = range(1,53)\n",
    "df.loc[:,'week'] = 0\n",
    "\n",
    "n=0\n",
    "for y in years:\n",
    "    for w in weeks:\n",
    "        n += 1\n",
    "        df.loc[(df['PostCreationDate'].dt.year == y) & (df['PostCreationDate'].dt.week == w), 'week'] = n"
   ]
  },
  {
   "cell_type": "code",
   "execution_count": 49,
   "metadata": {
    "collapsed": true
   },
   "outputs": [],
   "source": [
    "years = [2010,2011,2012]\n",
    "months = range(1,13)\n",
    "df.loc[:,'month'] = 0\n",
    "\n",
    "n=0\n",
    "for y in years:\n",
    "    for m in months:\n",
    "        n += 1\n",
    "        df.loc[(df['PostCreationDate'].dt.year == y) & (df['PostCreationDate'].dt.month == m), 'month'] = n"
   ]
  },
  {
   "cell_type": "code",
   "execution_count": 17,
   "metadata": {},
   "outputs": [
    {
     "data": {
      "text/plain": [
       "2     450110\n",
       "1      67018\n",
       "5      37412\n",
       "3      23530\n",
       "16     11795\n",
       "6       3245\n",
       "15      2374\n",
       "11      1934\n",
       "9       1238\n",
       "8       1171\n",
       "10       159\n",
       "7         14\n",
       "Name: VoteTypeId, dtype: int64"
      ]
     },
     "execution_count": 17,
     "metadata": {},
     "output_type": "execute_result"
    }
   ],
   "source": [
    "# Id | Name\n",
    "# -- | ----------------------\n",
    "# 1  | AcceptedByOriginator\n",
    "# 2  | UpMod\n",
    "# 3  | DownMod\n",
    "# 4  | Offensive\n",
    "# 5  | Favorite\n",
    "# 6  | Close\n",
    "# 7  | Reopen\n",
    "# 8  | BountyStart\n",
    "# 9  | BountyClose\n",
    "# 10 | Deletion\n",
    "# 11 | Undeletion\n",
    "# 12 | Spam\n",
    "# 15 | ModeratorReview\n",
    "# 16 | ApproveEditSuggestion\n",
    "\n",
    "df['VoteTypeId'].value_counts()"
   ]
  },
  {
   "cell_type": "code",
   "execution_count": 10,
   "metadata": {
    "collapsed": true
   },
   "outputs": [],
   "source": [
    "for i in [1,2,5,11]:\n",
    "    df.loc[df['VoteTypeId']==i,'Votes']= 1 #positives\n",
    "\n",
    "for i in [3,6,7,8,9,10,15,16]:\n",
    "    df.loc[df['VoteTypeId']==i,'Votes']= 2 #negatives"
   ]
  },
  {
   "cell_type": "code",
   "execution_count": 12,
   "metadata": {},
   "outputs": [
    {
     "data": {
      "text/plain": [
       "1.0    556474\n",
       "2.0     43526\n",
       "Name: Votes, dtype: int64"
      ]
     },
     "execution_count": 12,
     "metadata": {},
     "output_type": "execute_result"
    }
   ],
   "source": [
    "df['Votes'].value_counts()"
   ]
  },
  {
   "cell_type": "code",
   "execution_count": 15,
   "metadata": {},
   "outputs": [
    {
     "data": {
      "text/plain": [
       "2    379529\n",
       "1    219695\n",
       "4       414\n",
       "5       362\n",
       "Name: PostTypeId, dtype: int64"
      ]
     },
     "execution_count": 15,
     "metadata": {},
     "output_type": "execute_result"
    }
   ],
   "source": [
    "# 1 = Question\n",
    "# 2 = Answer\n",
    "# 3 = Orphaned tag wiki\n",
    "# 4 = Tag wiki excerpt\n",
    "# 5 = Tag wiki\n",
    "# 6 = Moderator nomination\n",
    "# 7 = \"Wiki placeholder\" (seems to only be the election description)\n",
    "# 8 = Privilege wiki\n",
    "\n",
    "df['PostTypeId'].value_counts()"
   ]
  },
  {
   "cell_type": "code",
   "execution_count": 13,
   "metadata": {
    "collapsed": true
   },
   "outputs": [],
   "source": [
    "for i in [1,4,5]:\n",
    "    df.loc[df['PostTypeId']==i,'PostType']= 1  #questions\n",
    "\n",
    "df.loc[df['PostTypeId']==2,'PostType']= 2      #answers"
   ]
  },
  {
   "cell_type": "code",
   "execution_count": 16,
   "metadata": {},
   "outputs": [
    {
     "data": {
      "text/plain": [
       "2.0    379529\n",
       "1.0    220471\n",
       "Name: PostType, dtype: int64"
      ]
     },
     "execution_count": 16,
     "metadata": {},
     "output_type": "execute_result"
    }
   ],
   "source": [
    "df['PostType'].value_counts()"
   ]
  },
  {
   "cell_type": "code",
   "execution_count": 18,
   "metadata": {
    "collapsed": true
   },
   "outputs": [],
   "source": [
    "# You gain reputation when:\n",
    "#         question is voted up: +5\n",
    "#         answer is voted up: +10\n",
    "\n",
    "df.loc[(df['Votes']==1)&(df['PostType']==1),'Reputation']= 5\n",
    "df.loc[(df['Votes']==1)&(df['PostType']==2),'Reputation']= 10\n",
    "\n",
    "# You lose reputation when:\n",
    "#         your question is voted down: −2\n",
    "#         your answer is voted down: −2\n",
    "\n",
    "df.loc[(df['Votes']==2)&(df['PostType']==1),'Reputation']= -2\n",
    "df.loc[(df['Votes']==2)&(df['PostType']==2),'Reputation']= -2"
   ]
  },
  {
   "cell_type": "code",
   "execution_count": 66,
   "metadata": {},
   "outputs": [
    {
     "data": {
      "text/plain": [
       "26543"
      ]
     },
     "execution_count": 66,
     "metadata": {},
     "output_type": "execute_result"
    }
   ],
   "source": [
    "len(df['UserId'].unique())"
   ]
  },
  {
   "cell_type": "code",
   "execution_count": 54,
   "metadata": {},
   "outputs": [],
   "source": [
    "weeklyReputation = df.pivot_table(index=['UserId','week'], values='Reputation', aggfunc='sum') \\\n",
    "                        .sort_values(by=['week','Reputation'],ascending=[True, False]) \\\n",
    "                        .reset_index()\n",
    "\n",
    "weeklyView = df.pivot_table(index=['UserId','week'], values='PViewCount', aggfunc='sum') \\\n",
    "                        .sort_values(by=['week','PViewCount'],ascending=[True, False]) \\\n",
    "                        .reset_index()"
   ]
  },
  {
   "cell_type": "code",
   "execution_count": 58,
   "metadata": {},
   "outputs": [
    {
     "data": {
      "text/html": [
       "<div>\n",
       "<style scoped>\n",
       "    .dataframe tbody tr th:only-of-type {\n",
       "        vertical-align: middle;\n",
       "    }\n",
       "\n",
       "    .dataframe tbody tr th {\n",
       "        vertical-align: top;\n",
       "    }\n",
       "\n",
       "    .dataframe thead th {\n",
       "        text-align: right;\n",
       "    }\n",
       "</style>\n",
       "<table border=\"1\" class=\"dataframe\">\n",
       "  <thead>\n",
       "    <tr style=\"text-align: right;\">\n",
       "      <th></th>\n",
       "      <th>UserId</th>\n",
       "      <th>week</th>\n",
       "      <th>Reputation</th>\n",
       "      <th>Rank</th>\n",
       "    </tr>\n",
       "  </thead>\n",
       "  <tbody>\n",
       "    <tr>\n",
       "      <th>0</th>\n",
       "      <td>242043</td>\n",
       "      <td>0</td>\n",
       "      <td>1078.0</td>\n",
       "      <td>1.0</td>\n",
       "    </tr>\n",
       "    <tr>\n",
       "      <th>1</th>\n",
       "      <td>242182</td>\n",
       "      <td>0</td>\n",
       "      <td>746.0</td>\n",
       "      <td>2.0</td>\n",
       "    </tr>\n",
       "    <tr>\n",
       "      <th>2</th>\n",
       "      <td>242532</td>\n",
       "      <td>0</td>\n",
       "      <td>510.0</td>\n",
       "      <td>3.0</td>\n",
       "    </tr>\n",
       "    <tr>\n",
       "      <th>3</th>\n",
       "      <td>242636</td>\n",
       "      <td>0</td>\n",
       "      <td>490.0</td>\n",
       "      <td>4.0</td>\n",
       "    </tr>\n",
       "    <tr>\n",
       "      <th>4</th>\n",
       "      <td>242812</td>\n",
       "      <td>0</td>\n",
       "      <td>360.0</td>\n",
       "      <td>5.0</td>\n",
       "    </tr>\n",
       "  </tbody>\n",
       "</table>\n",
       "</div>"
      ],
      "text/plain": [
       "   UserId  week  Reputation  Rank\n",
       "0  242043     0      1078.0   1.0\n",
       "1  242182     0       746.0   2.0\n",
       "2  242532     0       510.0   3.0\n",
       "3  242636     0       490.0   4.0\n",
       "4  242812     0       360.0   5.0"
      ]
     },
     "execution_count": 58,
     "metadata": {},
     "output_type": "execute_result"
    }
   ],
   "source": [
    "weeklyReputation.head()"
   ]
  },
  {
   "cell_type": "code",
   "execution_count": 50,
   "metadata": {},
   "outputs": [],
   "source": [
    "monthyReputation = df.pivot_table(index=['UserId','month'], values='Reputation', aggfunc='sum') \\\n",
    "                        .sort_values(by=['month','Reputation'],ascending=[True, False]) \\\n",
    "                        .reset_index()\n",
    "\n",
    "monthlyView = df.pivot_table(index=['UserId','month'], values='PViewCount', aggfunc='sum') \\\n",
    "                        .sort_values(by=['month','PViewCount'],ascending=[True, False]) \\\n",
    "                        .reset_index()"
   ]
  },
  {
   "cell_type": "code",
   "execution_count": 59,
   "metadata": {
    "collapsed": true
   },
   "outputs": [],
   "source": [
    "weeklyReputation['Rank'] = weeklyReputation.groupby('week')['Reputation'].rank(ascending=False)\n",
    "monthyReputation['Rank'] = monthyReputation.groupby('month')['Reputation'].rank(ascending=False)"
   ]
  },
  {
   "cell_type": "code",
   "execution_count": 98,
   "metadata": {},
   "outputs": [],
   "source": [
    "userdf = df[['UserId','UCreationDate','UAccessDate','ULocation','U.Views']].drop_duplicates(keep='first').reset_index()"
   ]
  },
  {
   "cell_type": "code",
   "execution_count": 102,
   "metadata": {},
   "outputs": [
    {
     "data": {
      "text/plain": [
       "Index([u'UserId', u'UCreationDate', u'UAccessDate', u'ULocation', u'U.Views',\n",
       "       u'U.Uvotes', u'U.Dvotes', u'PostId', u'PostTypeId', u'PostParentId',\n",
       "       u'PostCreationDate', u'PostDeletionDate', u'PostScore', u'PViewCount',\n",
       "       u'LEDDate', u'LEDate', u'LADate', u'PTags', u'AnswerCount',\n",
       "       u'CommentCount', u'FavoriteCount', u'PClosedDate', u'VoteId',\n",
       "       u'VoteTypeId', u'VCreationDate', u'week', u'Votes', u'PostType',\n",
       "       u'Reputation', u'month'],\n",
       "      dtype='object')"
      ]
     },
     "execution_count": 102,
     "metadata": {},
     "output_type": "execute_result"
    }
   ],
   "source": [
    "df.columns"
   ]
  },
  {
   "cell_type": "code",
   "execution_count": 106,
   "metadata": {},
   "outputs": [
    {
     "data": {
      "text/html": [
       "<div>\n",
       "<style scoped>\n",
       "    .dataframe tbody tr th:only-of-type {\n",
       "        vertical-align: middle;\n",
       "    }\n",
       "\n",
       "    .dataframe tbody tr th {\n",
       "        vertical-align: top;\n",
       "    }\n",
       "\n",
       "    .dataframe thead th {\n",
       "        text-align: right;\n",
       "    }\n",
       "</style>\n",
       "<table border=\"1\" class=\"dataframe\">\n",
       "  <thead>\n",
       "    <tr style=\"text-align: right;\">\n",
       "      <th></th>\n",
       "      <th>UserId</th>\n",
       "      <th>week</th>\n",
       "      <th>Reputation</th>\n",
       "      <th>Rank</th>\n",
       "      <th>index</th>\n",
       "      <th>UCreationDate</th>\n",
       "      <th>UAccessDate</th>\n",
       "      <th>ULocation</th>\n",
       "      <th>U.Views</th>\n",
       "    </tr>\n",
       "  </thead>\n",
       "  <tbody>\n",
       "    <tr>\n",
       "      <th>0</th>\n",
       "      <td>242043</td>\n",
       "      <td>0</td>\n",
       "      <td>1078.0</td>\n",
       "      <td>1.0</td>\n",
       "      <td>5343</td>\n",
       "      <td>2010-01-01 20:59:19</td>\n",
       "      <td>2018-09-12 03:06:27</td>\n",
       "      <td>NaN</td>\n",
       "      <td>125</td>\n",
       "    </tr>\n",
       "    <tr>\n",
       "      <th>1</th>\n",
       "      <td>242043</td>\n",
       "      <td>1</td>\n",
       "      <td>70.0</td>\n",
       "      <td>198.5</td>\n",
       "      <td>5343</td>\n",
       "      <td>2010-01-01 20:59:19</td>\n",
       "      <td>2018-09-12 03:06:27</td>\n",
       "      <td>NaN</td>\n",
       "      <td>125</td>\n",
       "    </tr>\n",
       "    <tr>\n",
       "      <th>2</th>\n",
       "      <td>242043</td>\n",
       "      <td>2</td>\n",
       "      <td>10.0</td>\n",
       "      <td>489.0</td>\n",
       "      <td>5343</td>\n",
       "      <td>2010-01-01 20:59:19</td>\n",
       "      <td>2018-09-12 03:06:27</td>\n",
       "      <td>NaN</td>\n",
       "      <td>125</td>\n",
       "    </tr>\n",
       "    <tr>\n",
       "      <th>3</th>\n",
       "      <td>242043</td>\n",
       "      <td>6</td>\n",
       "      <td>60.0</td>\n",
       "      <td>69.5</td>\n",
       "      <td>5343</td>\n",
       "      <td>2010-01-01 20:59:19</td>\n",
       "      <td>2018-09-12 03:06:27</td>\n",
       "      <td>NaN</td>\n",
       "      <td>125</td>\n",
       "    </tr>\n",
       "    <tr>\n",
       "      <th>4</th>\n",
       "      <td>242182</td>\n",
       "      <td>0</td>\n",
       "      <td>746.0</td>\n",
       "      <td>2.0</td>\n",
       "      <td>8462</td>\n",
       "      <td>2010-01-02 05:19:03</td>\n",
       "      <td>2018-09-13 22:52:51</td>\n",
       "      <td>NaN</td>\n",
       "      <td>53</td>\n",
       "    </tr>\n",
       "  </tbody>\n",
       "</table>\n",
       "</div>"
      ],
      "text/plain": [
       "   UserId  week  Reputation   Rank  index        UCreationDate  \\\n",
       "0  242043     0      1078.0    1.0   5343  2010-01-01 20:59:19   \n",
       "1  242043     1        70.0  198.5   5343  2010-01-01 20:59:19   \n",
       "2  242043     2        10.0  489.0   5343  2010-01-01 20:59:19   \n",
       "3  242043     6        60.0   69.5   5343  2010-01-01 20:59:19   \n",
       "4  242182     0       746.0    2.0   8462  2010-01-02 05:19:03   \n",
       "\n",
       "           UAccessDate ULocation  U.Views  \n",
       "0  2018-09-12 03:06:27       NaN      125  \n",
       "1  2018-09-12 03:06:27       NaN      125  \n",
       "2  2018-09-12 03:06:27       NaN      125  \n",
       "3  2018-09-12 03:06:27       NaN      125  \n",
       "4  2018-09-13 22:52:51       NaN       53  "
      ]
     },
     "execution_count": 106,
     "metadata": {},
     "output_type": "execute_result"
    }
   ],
   "source": [
    "weeklyUserReputation = pd.merge(weeklyReputation ,userdf, on='UserId')\n",
    "weeklyUserReputation.head()"
   ]
  },
  {
   "cell_type": "code",
   "execution_count": 108,
   "metadata": {},
   "outputs": [
    {
     "data": {
      "text/html": [
       "<div>\n",
       "<style scoped>\n",
       "    .dataframe tbody tr th:only-of-type {\n",
       "        vertical-align: middle;\n",
       "    }\n",
       "\n",
       "    .dataframe tbody tr th {\n",
       "        vertical-align: top;\n",
       "    }\n",
       "\n",
       "    .dataframe thead th {\n",
       "        text-align: right;\n",
       "    }\n",
       "</style>\n",
       "<table border=\"1\" class=\"dataframe\">\n",
       "  <thead>\n",
       "    <tr style=\"text-align: right;\">\n",
       "      <th></th>\n",
       "      <th>UserId</th>\n",
       "      <th>month</th>\n",
       "      <th>Reputation</th>\n",
       "      <th>Rank</th>\n",
       "      <th>index</th>\n",
       "      <th>UCreationDate</th>\n",
       "      <th>UAccessDate</th>\n",
       "      <th>ULocation</th>\n",
       "      <th>U.Views</th>\n",
       "    </tr>\n",
       "  </thead>\n",
       "  <tbody>\n",
       "    <tr>\n",
       "      <th>0</th>\n",
       "      <td>243782</td>\n",
       "      <td>1</td>\n",
       "      <td>2721.0</td>\n",
       "      <td>1.0</td>\n",
       "      <td>2454</td>\n",
       "      <td>2010-01-05 09:37:40</td>\n",
       "      <td>2018-09-15 20:22:22</td>\n",
       "      <td>Transylvania, Romania</td>\n",
       "      <td>9662</td>\n",
       "    </tr>\n",
       "    <tr>\n",
       "      <th>1</th>\n",
       "      <td>243782</td>\n",
       "      <td>2</td>\n",
       "      <td>5648.0</td>\n",
       "      <td>2.0</td>\n",
       "      <td>2454</td>\n",
       "      <td>2010-01-05 09:37:40</td>\n",
       "      <td>2018-09-15 20:22:22</td>\n",
       "      <td>Transylvania, Romania</td>\n",
       "      <td>9662</td>\n",
       "    </tr>\n",
       "    <tr>\n",
       "      <th>2</th>\n",
       "      <td>243782</td>\n",
       "      <td>3</td>\n",
       "      <td>4286.0</td>\n",
       "      <td>1.0</td>\n",
       "      <td>2454</td>\n",
       "      <td>2010-01-05 09:37:40</td>\n",
       "      <td>2018-09-15 20:22:22</td>\n",
       "      <td>Transylvania, Romania</td>\n",
       "      <td>9662</td>\n",
       "    </tr>\n",
       "    <tr>\n",
       "      <th>3</th>\n",
       "      <td>243782</td>\n",
       "      <td>4</td>\n",
       "      <td>4216.0</td>\n",
       "      <td>1.0</td>\n",
       "      <td>2454</td>\n",
       "      <td>2010-01-05 09:37:40</td>\n",
       "      <td>2018-09-15 20:22:22</td>\n",
       "      <td>Transylvania, Romania</td>\n",
       "      <td>9662</td>\n",
       "    </tr>\n",
       "    <tr>\n",
       "      <th>4</th>\n",
       "      <td>243782</td>\n",
       "      <td>5</td>\n",
       "      <td>4889.0</td>\n",
       "      <td>1.0</td>\n",
       "      <td>2454</td>\n",
       "      <td>2010-01-05 09:37:40</td>\n",
       "      <td>2018-09-15 20:22:22</td>\n",
       "      <td>Transylvania, Romania</td>\n",
       "      <td>9662</td>\n",
       "    </tr>\n",
       "  </tbody>\n",
       "</table>\n",
       "</div>"
      ],
      "text/plain": [
       "   UserId  month  Reputation  Rank  index        UCreationDate  \\\n",
       "0  243782      1      2721.0   1.0   2454  2010-01-05 09:37:40   \n",
       "1  243782      2      5648.0   2.0   2454  2010-01-05 09:37:40   \n",
       "2  243782      3      4286.0   1.0   2454  2010-01-05 09:37:40   \n",
       "3  243782      4      4216.0   1.0   2454  2010-01-05 09:37:40   \n",
       "4  243782      5      4889.0   1.0   2454  2010-01-05 09:37:40   \n",
       "\n",
       "           UAccessDate              ULocation  U.Views  \n",
       "0  2018-09-15 20:22:22  Transylvania, Romania     9662  \n",
       "1  2018-09-15 20:22:22  Transylvania, Romania     9662  \n",
       "2  2018-09-15 20:22:22  Transylvania, Romania     9662  \n",
       "3  2018-09-15 20:22:22  Transylvania, Romania     9662  \n",
       "4  2018-09-15 20:22:22  Transylvania, Romania     9662  "
      ]
     },
     "execution_count": 108,
     "metadata": {},
     "output_type": "execute_result"
    }
   ],
   "source": [
    "monthlyUserReputation = pd.merge(monthyReputation ,userdf, on='UserId')\n",
    "monthlyUserReputation.head()"
   ]
  },
  {
   "cell_type": "code",
   "execution_count": 123,
   "metadata": {},
   "outputs": [],
   "source": [
    "totalweeklyActivitiy = df.groupby(['UserId','week'])['PostId'].count().reset_index()\n",
    "totalweeklyActivitiy.rename({'PostId':'tCount'},axis=1,inplace=True)\n",
    "\n",
    "weeklyQuestions = df.loc[df['PostType'] == 1,:].groupby(['UserId','week'])['PostId'].count().reset_index()\n",
    "weeklyQuestions.rename({'PostId':'qCount'},axis=1,inplace=True)\n",
    "\n",
    "weeklyAnswers = df.loc[df['PostType'] == 2,:].groupby(['UserId','week'])['PostId'].count().reset_index()\n",
    "weeklyAnswers.rename({'PostId':'aCount'},axis=1,inplace=True)"
   ]
  },
  {
   "cell_type": "code",
   "execution_count": 124,
   "metadata": {
    "collapsed": true
   },
   "outputs": [],
   "source": [
    "totalmonthlyActivitiy = df.groupby(['UserId','month'])['PostId'].count().reset_index()\n",
    "totalmonthlyActivitiy.rename({'PostId':'tCount'},axis=1,inplace=True)\n",
    "\n",
    "monthlyQuestions = df.loc[df['PostType'] == 1,:].groupby(['UserId','month'])['PostId'].count().reset_index()\n",
    "monthlyQuestions.rename({'PostId':'qCount'},axis=1,inplace=True)\n",
    "\n",
    "monthlyAnswers = df.loc[df['PostType'] == 2,:].groupby(['UserId','month'])['PostId'].count().reset_index()\n",
    "monthlyAnswers.rename({'PostId':'aCount'},axis=1,inplace=True)"
   ]
  },
  {
   "cell_type": "code",
   "execution_count": 133,
   "metadata": {},
   "outputs": [],
   "source": [
    "#totalweeklyActivitiy.drop('index',axis=1,inplace=True)"
   ]
  },
  {
   "cell_type": "code",
   "execution_count": 136,
   "metadata": {},
   "outputs": [],
   "source": [
    "weeklyDfs = [weeklyUserReputation, weeklyView, totalweeklyActivitiy, weeklyQuestions, weeklyAnswers]\n",
    "\n",
    "#join all dataframes\n",
    "weekly_final = reduce(lambda left,right: pd.merge(left,right,on=['UserId','week']), weeklyDfs)"
   ]
  },
  {
   "cell_type": "code",
   "execution_count": 138,
   "metadata": {},
   "outputs": [
    {
     "data": {
      "text/html": [
       "<div>\n",
       "<style scoped>\n",
       "    .dataframe tbody tr th:only-of-type {\n",
       "        vertical-align: middle;\n",
       "    }\n",
       "\n",
       "    .dataframe tbody tr th {\n",
       "        vertical-align: top;\n",
       "    }\n",
       "\n",
       "    .dataframe thead th {\n",
       "        text-align: right;\n",
       "    }\n",
       "</style>\n",
       "<table border=\"1\" class=\"dataframe\">\n",
       "  <thead>\n",
       "    <tr style=\"text-align: right;\">\n",
       "      <th></th>\n",
       "      <th>UserId</th>\n",
       "      <th>week</th>\n",
       "      <th>Reputation</th>\n",
       "      <th>Rank</th>\n",
       "      <th>UCreationDate</th>\n",
       "      <th>UAccessDate</th>\n",
       "      <th>ULocation</th>\n",
       "      <th>U.Views</th>\n",
       "      <th>PViewCount</th>\n",
       "      <th>tCount</th>\n",
       "      <th>qCount</th>\n",
       "      <th>aCount</th>\n",
       "    </tr>\n",
       "  </thead>\n",
       "  <tbody>\n",
       "    <tr>\n",
       "      <th>0</th>\n",
       "      <td>242182</td>\n",
       "      <td>2</td>\n",
       "      <td>198.0</td>\n",
       "      <td>41.0</td>\n",
       "      <td>2010-01-02 05:19:03</td>\n",
       "      <td>2018-09-13 22:52:51</td>\n",
       "      <td>NaN</td>\n",
       "      <td>53</td>\n",
       "      <td>14558.0</td>\n",
       "      <td>22</td>\n",
       "      <td>2</td>\n",
       "      <td>20</td>\n",
       "    </tr>\n",
       "    <tr>\n",
       "      <th>1</th>\n",
       "      <td>242182</td>\n",
       "      <td>3</td>\n",
       "      <td>205.0</td>\n",
       "      <td>28.0</td>\n",
       "      <td>2010-01-02 05:19:03</td>\n",
       "      <td>2018-09-13 22:52:51</td>\n",
       "      <td>NaN</td>\n",
       "      <td>53</td>\n",
       "      <td>1818.0</td>\n",
       "      <td>22</td>\n",
       "      <td>3</td>\n",
       "      <td>19</td>\n",
       "    </tr>\n",
       "    <tr>\n",
       "      <th>2</th>\n",
       "      <td>242532</td>\n",
       "      <td>5</td>\n",
       "      <td>55.0</td>\n",
       "      <td>79.5</td>\n",
       "      <td>2010-01-03 02:48:15</td>\n",
       "      <td>2018-08-20 16:32:52</td>\n",
       "      <td>Italy</td>\n",
       "      <td>226</td>\n",
       "      <td>67224.0</td>\n",
       "      <td>9</td>\n",
       "      <td>7</td>\n",
       "      <td>2</td>\n",
       "    </tr>\n",
       "    <tr>\n",
       "      <th>3</th>\n",
       "      <td>242532</td>\n",
       "      <td>6</td>\n",
       "      <td>50.0</td>\n",
       "      <td>80.5</td>\n",
       "      <td>2010-01-03 02:48:15</td>\n",
       "      <td>2018-08-20 16:32:52</td>\n",
       "      <td>Italy</td>\n",
       "      <td>226</td>\n",
       "      <td>720.0</td>\n",
       "      <td>6</td>\n",
       "      <td>2</td>\n",
       "      <td>4</td>\n",
       "    </tr>\n",
       "    <tr>\n",
       "      <th>4</th>\n",
       "      <td>242532</td>\n",
       "      <td>25</td>\n",
       "      <td>285.0</td>\n",
       "      <td>14.0</td>\n",
       "      <td>2010-01-03 02:48:15</td>\n",
       "      <td>2018-08-20 16:32:52</td>\n",
       "      <td>Italy</td>\n",
       "      <td>226</td>\n",
       "      <td>1094.0</td>\n",
       "      <td>29</td>\n",
       "      <td>1</td>\n",
       "      <td>28</td>\n",
       "    </tr>\n",
       "  </tbody>\n",
       "</table>\n",
       "</div>"
      ],
      "text/plain": [
       "   UserId  week  Reputation  Rank        UCreationDate          UAccessDate  \\\n",
       "0  242182     2       198.0  41.0  2010-01-02 05:19:03  2018-09-13 22:52:51   \n",
       "1  242182     3       205.0  28.0  2010-01-02 05:19:03  2018-09-13 22:52:51   \n",
       "2  242532     5        55.0  79.5  2010-01-03 02:48:15  2018-08-20 16:32:52   \n",
       "3  242532     6        50.0  80.5  2010-01-03 02:48:15  2018-08-20 16:32:52   \n",
       "4  242532    25       285.0  14.0  2010-01-03 02:48:15  2018-08-20 16:32:52   \n",
       "\n",
       "  ULocation  U.Views  PViewCount  tCount  qCount  aCount  \n",
       "0       NaN       53     14558.0      22       2      20  \n",
       "1       NaN       53      1818.0      22       3      19  \n",
       "2     Italy      226     67224.0       9       7       2  \n",
       "3     Italy      226       720.0       6       2       4  \n",
       "4     Italy      226      1094.0      29       1      28  "
      ]
     },
     "execution_count": 138,
     "metadata": {},
     "output_type": "execute_result"
    }
   ],
   "source": [
    "weekly_final.head()"
   ]
  },
  {
   "cell_type": "code",
   "execution_count": 143,
   "metadata": {},
   "outputs": [],
   "source": [
    "monthlyDfs = [monthlyUserReputation, monthlyView, totalmonthlyActivitiy, monthlyQuestions, monthlyAnswers]\n",
    "\n",
    "#join all dataframes\n",
    "monthly_final = reduce(lambda left,right: pd.merge(left,right,on=['UserId','month']), monthlyDfs)"
   ]
  },
  {
   "cell_type": "code",
   "execution_count": 145,
   "metadata": {},
   "outputs": [
    {
     "data": {
      "text/html": [
       "<div>\n",
       "<style scoped>\n",
       "    .dataframe tbody tr th:only-of-type {\n",
       "        vertical-align: middle;\n",
       "    }\n",
       "\n",
       "    .dataframe tbody tr th {\n",
       "        vertical-align: top;\n",
       "    }\n",
       "\n",
       "    .dataframe thead th {\n",
       "        text-align: right;\n",
       "    }\n",
       "</style>\n",
       "<table border=\"1\" class=\"dataframe\">\n",
       "  <thead>\n",
       "    <tr style=\"text-align: right;\">\n",
       "      <th></th>\n",
       "      <th>UserId</th>\n",
       "      <th>month</th>\n",
       "      <th>Reputation</th>\n",
       "      <th>Rank</th>\n",
       "      <th>index</th>\n",
       "      <th>UCreationDate</th>\n",
       "      <th>UAccessDate</th>\n",
       "      <th>ULocation</th>\n",
       "      <th>U.Views</th>\n",
       "      <th>PViewCount</th>\n",
       "      <th>tCount</th>\n",
       "      <th>qCount</th>\n",
       "      <th>aCount</th>\n",
       "    </tr>\n",
       "  </thead>\n",
       "  <tbody>\n",
       "    <tr>\n",
       "      <th>0</th>\n",
       "      <td>243782</td>\n",
       "      <td>1</td>\n",
       "      <td>2721.0</td>\n",
       "      <td>1.0</td>\n",
       "      <td>2454</td>\n",
       "      <td>2010-01-05 09:37:40</td>\n",
       "      <td>2018-09-15 20:22:22</td>\n",
       "      <td>Transylvania, Romania</td>\n",
       "      <td>9662</td>\n",
       "      <td>3705240.0</td>\n",
       "      <td>314</td>\n",
       "      <td>71</td>\n",
       "      <td>243</td>\n",
       "    </tr>\n",
       "    <tr>\n",
       "      <th>1</th>\n",
       "      <td>243782</td>\n",
       "      <td>2</td>\n",
       "      <td>5648.0</td>\n",
       "      <td>2.0</td>\n",
       "      <td>2454</td>\n",
       "      <td>2010-01-05 09:37:40</td>\n",
       "      <td>2018-09-15 20:22:22</td>\n",
       "      <td>Transylvania, Romania</td>\n",
       "      <td>9662</td>\n",
       "      <td>47326865.0</td>\n",
       "      <td>807</td>\n",
       "      <td>456</td>\n",
       "      <td>351</td>\n",
       "    </tr>\n",
       "    <tr>\n",
       "      <th>2</th>\n",
       "      <td>243782</td>\n",
       "      <td>3</td>\n",
       "      <td>4286.0</td>\n",
       "      <td>1.0</td>\n",
       "      <td>2454</td>\n",
       "      <td>2010-01-05 09:37:40</td>\n",
       "      <td>2018-09-15 20:22:22</td>\n",
       "      <td>Transylvania, Romania</td>\n",
       "      <td>9662</td>\n",
       "      <td>16171736.0</td>\n",
       "      <td>554</td>\n",
       "      <td>238</td>\n",
       "      <td>316</td>\n",
       "    </tr>\n",
       "    <tr>\n",
       "      <th>3</th>\n",
       "      <td>243782</td>\n",
       "      <td>4</td>\n",
       "      <td>4216.0</td>\n",
       "      <td>1.0</td>\n",
       "      <td>2454</td>\n",
       "      <td>2010-01-05 09:37:40</td>\n",
       "      <td>2018-09-15 20:22:22</td>\n",
       "      <td>Transylvania, Romania</td>\n",
       "      <td>9662</td>\n",
       "      <td>19211.0</td>\n",
       "      <td>430</td>\n",
       "      <td>12</td>\n",
       "      <td>418</td>\n",
       "    </tr>\n",
       "    <tr>\n",
       "      <th>4</th>\n",
       "      <td>243782</td>\n",
       "      <td>5</td>\n",
       "      <td>4889.0</td>\n",
       "      <td>1.0</td>\n",
       "      <td>2454</td>\n",
       "      <td>2010-01-05 09:37:40</td>\n",
       "      <td>2018-09-15 20:22:22</td>\n",
       "      <td>Transylvania, Romania</td>\n",
       "      <td>9662</td>\n",
       "      <td>167842573.0</td>\n",
       "      <td>852</td>\n",
       "      <td>687</td>\n",
       "      <td>165</td>\n",
       "    </tr>\n",
       "  </tbody>\n",
       "</table>\n",
       "</div>"
      ],
      "text/plain": [
       "   UserId  month  Reputation  Rank  index        UCreationDate  \\\n",
       "0  243782      1      2721.0   1.0   2454  2010-01-05 09:37:40   \n",
       "1  243782      2      5648.0   2.0   2454  2010-01-05 09:37:40   \n",
       "2  243782      3      4286.0   1.0   2454  2010-01-05 09:37:40   \n",
       "3  243782      4      4216.0   1.0   2454  2010-01-05 09:37:40   \n",
       "4  243782      5      4889.0   1.0   2454  2010-01-05 09:37:40   \n",
       "\n",
       "           UAccessDate              ULocation  U.Views   PViewCount  tCount  \\\n",
       "0  2018-09-15 20:22:22  Transylvania, Romania     9662    3705240.0     314   \n",
       "1  2018-09-15 20:22:22  Transylvania, Romania     9662   47326865.0     807   \n",
       "2  2018-09-15 20:22:22  Transylvania, Romania     9662   16171736.0     554   \n",
       "3  2018-09-15 20:22:22  Transylvania, Romania     9662      19211.0     430   \n",
       "4  2018-09-15 20:22:22  Transylvania, Romania     9662  167842573.0     852   \n",
       "\n",
       "   qCount  aCount  \n",
       "0      71     243  \n",
       "1     456     351  \n",
       "2     238     316  \n",
       "3      12     418  \n",
       "4     687     165  "
      ]
     },
     "execution_count": 145,
     "metadata": {},
     "output_type": "execute_result"
    }
   ],
   "source": [
    "monthly_final.head()"
   ]
  },
  {
   "cell_type": "code",
   "execution_count": 146,
   "metadata": {
    "collapsed": true
   },
   "outputs": [],
   "source": [
    "weekly_final.loc[weekly_final['week'] <= 63,'changed'] = 'no'\n",
    "weekly_final.loc[weekly_final['week'] > 63,'changed'] = 'yes'"
   ]
  },
  {
   "cell_type": "code",
   "execution_count": 150,
   "metadata": {
    "collapsed": true
   },
   "outputs": [],
   "source": [
    "monthly_final.loc[monthly_final['month'] <= 15,'changed'] = 'no'\n",
    "monthly_final.loc[monthly_final['month'] > 15,'changed'] = 'yes'"
   ]
  },
  {
   "cell_type": "code",
   "execution_count": 178,
   "metadata": {
    "collapsed": true
   },
   "outputs": [],
   "source": [
    "weekly_final.to_csv(\"weekly_final.csv\",index=False)"
   ]
  },
  {
   "cell_type": "code",
   "execution_count": 179,
   "metadata": {
    "collapsed": true
   },
   "outputs": [],
   "source": [
    "monthly_final.to_csv(\"monthly_final.csv\",index=False)"
   ]
  }
 ],
 "metadata": {
  "kernelspec": {
   "display_name": "Python 2",
   "language": "python",
   "name": "python2"
  },
  "language_info": {
   "codemirror_mode": {
    "name": "ipython",
    "version": 2
   },
   "file_extension": ".py",
   "mimetype": "text/x-python",
   "name": "python",
   "nbconvert_exporter": "python",
   "pygments_lexer": "ipython2",
   "version": "2.7.14"
  }
 },
 "nbformat": 4,
 "nbformat_minor": 2
}
